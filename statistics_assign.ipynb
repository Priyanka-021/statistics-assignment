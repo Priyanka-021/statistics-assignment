{
  "nbformat": 4,
  "nbformat_minor": 0,
  "metadata": {
    "colab": {
      "provenance": []
    },
    "kernelspec": {
      "name": "python3",
      "display_name": "Python 3"
    },
    "language_info": {
      "name": "python"
    }
  },
  "cells": [
    {
      "cell_type": "markdown",
      "source": [
        "#**Statistics Basics**\n"
      ],
      "metadata": {
        "id": "RQl3aM94sYy1"
      }
    },
    {
      "cell_type": "markdown",
      "source": [
        "**1.What is statistics, and why is it important?**\n",
        "\n",
        "  Statistics is a matematical science, including methods of collecting, organising and analysing data in such a way that meaningful conclusion can be drawn. In this learning patteren from data is main. It is important becasue data is used to bring the insights to increase a company's revenue, facts or info that can be stored, measured and re-accessed. It collects, organised and analysing data.\n",
        "\n",
        "**2.What are the two main types of statistics?**\n",
        "\n",
        "  Types of statistics are\n",
        "  1.Descriptive it consist of complete data.\n",
        "  2.Inferential statistics , it uses sample data.\n",
        "\n",
        "**3.What are descriptive statistics?**\n",
        "\n",
        "  It consist of organinsing and summerising the complete data population.\n",
        "\n",
        "**4.What is inferential statistics?**\n",
        "\n",
        "  It consist of using sample data that has been measured to form conclusion about the population.\n",
        "\n",
        "**5.What is sampling in statistics?**\n",
        "\n",
        "  In statistics, sampling means picking a smaller group (a \"sample\") from a larger group (the \"population\") to study or analyze.\n",
        "  Instead of trying to measure every single person, item, or event in the entire population — which can be expensive, time-consuming, or even impossible — we study the sample and use it to make guesses (or inferences) about the whole population\n",
        "  \n",
        "**6.What are the different types of sampling methods?**\n",
        "\n",
        "  There are different ways to choose a sample, like:\n",
        "  1.simple Random sampling (everyone has an equal chance)\n",
        "  2.Stratified sampling (divide into groups first, then sample)\n",
        "  3.Systematic sampling (pick every 10th person, for example)\n",
        "  4.Cluster sampling (divides the population into groups and then chosen from this cluster)\n",
        "  \n",
        "**7.What is the difference between random and non-random sampling?**\n",
        "\n",
        "  Random Sampling: Every individual in the population has an equal chance of being selected.\n",
        "➔ Example: Picking names out of a hat.\n",
        "  Non-Random Sampling: The selection is not purely by chance — it's based on choice, convenience, judgment, etc.\n",
        "➔ Example: Asking only your friends for a survey because they are easy to reach.\n",
        "\n",
        "**8.Define and give examples of qualitative and quantitative data.**\n",
        "\n",
        "  Qualitative data - it is categorical data. It describes quality or characteristics eg- blood group, race, gender, grades, salary.\n",
        "  Quantitative data - It is numerical data. it describes quantity. eg- no of bank account, no of children, no of cars,\n",
        "\n",
        "**9.What are the different types of data in statistics?**\n",
        "\n",
        "  There are 2 types of data-  \n",
        "  1.Qualitative- further it has 2 types\n",
        "   a.Nominal       b.Ordinal\n",
        "  2.Quantitative- it is also 2 types\n",
        "  a. Discrete     b.Continuous\n",
        "               \n",
        "**10.Explain nominal, ordinal, interval, and ratio levels of measurement.**\n",
        "\n",
        "  Nominal- No order in the data. use in pie cart and bar plot.\n",
        "  Ordinal- Order or rank has a meaning/ matter. Difference can not be measured.\n",
        "  interval- The rank and order has a meaning. Difference can be measured.(excluding ratio). 0 starting value is not compulsory.\n",
        "  Ratio- Order and rank has a meaning. Differences and ratio are measurable.\n",
        "\n",
        "**11.What is the measure of central tendency?**\n",
        "\n",
        "  The measure of central tendency is a way to describe the \"center\" or \"average\" of a set of data.It shows where most values in a dataset are \"gathered\" around.The main measures are: Mean, Median, Mode\n",
        "\n",
        "**12.Define mean, median, and mode?**\n",
        "\n",
        "  Mean: The average (add up all the numbers and divide by how many numbers there are).\n",
        "  Median: The middle value when the numbers are arranged in order.\n",
        "  Mode: The number that appears most often\n",
        "\n",
        "**13.What is the significance of the measure of central tendency?**\n",
        "\n",
        "  The measure of central tendency helps us find the center or typical value of a dataset — basically, it tells us what is \"normal\" or \"average\" for the data.\n",
        "\n",
        "**14.What is variance, and how is it calculated?**\n",
        "\n",
        "  Variance is a measure of how spread out the numbers are in a dataset.It shows how much the data values are different from the mean (average).\n",
        "  In simple words:\n",
        "  If variance is small, the numbers are close to the mean.\n",
        "  If variance is large, the numbers are spread out far from the mean.\n",
        "  How to calculate variance (for a population):\n",
        "  Find the mean (average) of the data.\n",
        "  Subtract the mean from each data value (this gives you the \"deviation\").\n",
        "  Square each deviation (so negatives don't cancel out).\n",
        "  Add up all the squared deviations.\n",
        "  Divide by the number of data points (N).\n",
        "  Variance:   ∑(square(x-𝜇))/N\n",
        "            \n",
        "**15.What is standard deviation, and why is it important?**\n",
        "\n",
        "\n",
        "  Standard deviation is a measure of how spread out the numbers are in a dataset — just like variance — but it's in the same units as the original data (not squared).\n",
        "  It's basically the square root of the variance.\n",
        "  **Standard Deviation= Sqrt(variance)**\n",
        "  it is important-:\n",
        "  It tells you how much the data varies from the mean.\n",
        "  It helps you understand if the data points are close together or widely spread out.\n",
        "  It's super useful in comparing different datasets.\n",
        "\n",
        "**16.Define and explain the term range in statistics?**\n",
        "\n",
        "  In statistics, the range is the difference between the maximum and minimum values in a dataset. It tells you how spread out the data is.\n",
        "       range = max -min value\n",
        "\n",
        "**17.What is the difference between variance and standard deviation?**\n",
        "\n",
        "   Variance- It's the average of the squared differences from the mean. Harder to interpret directly because of squared units.Units are squared (e.g., cm², kg²).\n",
        "   Standard Deviation- It's the square root of the variance. Easier to understand because it's in original units. Units are the same as the data (e.g., cm, kg)\n",
        "\n",
        "**18.What is skewness in a dataset?**\n",
        "\n",
        "  Skewness measures how asymmetrical a dataset is — in other words, whether the data is pulled to one side (left or right) instead of being perfectly balanced around the mean.\n",
        "\n",
        "**19.What does it mean if a dataset is positively or negatively skewed?**\n",
        "\n",
        "  Positively skewed (right skewed):\n",
        "  ➔ The tail of the data is stretched out to the right (higher values).\n",
        "  ➔ Most of the data points are small, but a few very large values pull the mean up.\n",
        "  ➔ Mean > Median.\n",
        "  Incomes: Most people earn average salaries, but a few billionaires make the average (mean) look higher.\n",
        "\n",
        "  Negatively skewed (left skewed):\n",
        "  ➔ The tail of the data is stretched out to the left (lower values)\n",
        "  ➔ Most of the data points are high, but a few very small values pull the mean down.\n",
        "  ➔ Mean < Median.\n",
        "  Age at death in a rich country: Most people live long, but a few die young, pulling the average down a bit.\n",
        "\n",
        "**20.Define and explain kurtosis.**\n",
        "\n",
        "  Kurtosis measures the \"tailedness\" of a data distribution — basically, it tells you how heavy or light the tails are compared to a normal (bell-shaped) distribution. It shows if a dataset has more or fewer extreme values (outliers) than normal.\n",
        "  Types of kurtosis:\n",
        "  1.Mesokurtic (normal kurtosis): Looks like a normal bell curve. Moderate tails not too many or too few outliers.\n",
        "  2.Leptokurtic (high kurtosis): Tighter peak, heavier tails. More extreme values (outliers).\n",
        "  3.Platykurtic (low kurtosis): Flatter peak, lighter tails. Fewer extreme values than normal.\n",
        "  \n",
        "**21.What is the purpose of covariance?**\n",
        "\n",
        "  Covariance means you are trying to understand the relationship of a feature with respect to other features. To find out if there is a relationship between two variables.\n",
        "  To tell if the relationship is positive, negative, or none.\n",
        "\n",
        "**22.What does correlation measure in statistics?**\n",
        "\n",
        "  Correlation measures both the strength and direction of the relationship between two variables.\n",
        "\n",
        "**23.What is the difference between covariance and correlation?**\n",
        "\n",
        "  Covariance-: Measures the direction of the relationship between two variables.\n",
        "  Can be any value (from negative infinity to positive infinity).\tOnly tells you if the variables increase or decrease together, but not the strength of the relationship.\n",
        "  Correlation- Measures both the strength and direction of the relationship between two variables. Ranges from -1 to +1, making it easier to interpret.\n",
        "  Tells you both the direction (+ or -) and the strength of the relationship (closer to ±1 means a stronger relationship).\n",
        "\n",
        "**24.What are some real-world applications of statistics?**\n",
        "\n",
        "  It is used in weather forecast, sports analytics, election campaign,medical, genetics,fmcg and ecommerce etc.\n",
        "  "
      ],
      "metadata": {
        "id": "CeW6E_R1uE4Q"
      }
    },
    {
      "cell_type": "markdown",
      "source": [
        "#**Practical**"
      ],
      "metadata": {
        "id": "ZsAPCkeyu4vA"
      }
    },
    {
      "cell_type": "markdown",
      "source": [
        "**1.How do you calculate the mean, median, and mode of a dataset?**"
      ],
      "metadata": {
        "id": "tLRi4ma-u_F0"
      }
    },
    {
      "cell_type": "code",
      "source": [
        "import numpy as np\n",
        "from scipy import stats\n",
        "age= [28,17,23,22,17,19,25,17,30,27, 17,33]\n",
        "np.mean(age)"
      ],
      "metadata": {
        "id": "u4HEaCevzVGA",
        "colab": {
          "base_uri": "https://localhost:8080/"
        },
        "outputId": "fef12a22-5891-419b-f707-6bfb6d13110a"
      },
      "execution_count": null,
      "outputs": [
        {
          "output_type": "execute_result",
          "data": {
            "text/plain": [
              "np.float64(22.916666666666668)"
            ]
          },
          "metadata": {},
          "execution_count": 4
        }
      ]
    },
    {
      "cell_type": "code",
      "source": [
        "np.median(age)"
      ],
      "metadata": {
        "colab": {
          "base_uri": "https://localhost:8080/"
        },
        "id": "7xjWNP8kTQ8-",
        "outputId": "e37fd029-099b-4e30-8bc8-4fb06d34fa23"
      },
      "execution_count": null,
      "outputs": [
        {
          "output_type": "execute_result",
          "data": {
            "text/plain": [
              "np.float64(22.5)"
            ]
          },
          "metadata": {},
          "execution_count": 5
        }
      ]
    },
    {
      "cell_type": "code",
      "source": [
        "stats.mode(age)"
      ],
      "metadata": {
        "colab": {
          "base_uri": "https://localhost:8080/"
        },
        "id": "tPph3q9eTdKK",
        "outputId": "7e15d4ea-5b6a-45e6-c0d6-d63b99a09e73"
      },
      "execution_count": null,
      "outputs": [
        {
          "output_type": "execute_result",
          "data": {
            "text/plain": [
              "ModeResult(mode=np.int64(17), count=np.int64(4))"
            ]
          },
          "metadata": {},
          "execution_count": 6
        }
      ]
    },
    {
      "cell_type": "markdown",
      "source": [
        "**2.Write a Python program to compute the variance and standard deviation of a dataset.**\n"
      ],
      "metadata": {
        "id": "xsc9JoUdvXPo"
      }
    },
    {
      "cell_type": "code",
      "source": [
        "data= [2,3,4,5,8,9,2,3,3,3,30,40,23,33,15,18]\n",
        "np.var(data)"
      ],
      "metadata": {
        "colab": {
          "base_uri": "https://localhost:8080/"
        },
        "id": "hBfyNONyT5Rh",
        "outputId": "4adb1174-be90-42ac-8a0f-e837ae983a97"
      },
      "execution_count": null,
      "outputs": [
        {
          "output_type": "execute_result",
          "data": {
            "text/plain": [
              "np.float64(148.24609375)"
            ]
          },
          "metadata": {},
          "execution_count": 7
        }
      ]
    },
    {
      "cell_type": "code",
      "source": [
        "np.std(data)"
      ],
      "metadata": {
        "colab": {
          "base_uri": "https://localhost:8080/"
        },
        "id": "Nq-GaMxiVDQi",
        "outputId": "c83bcd0e-1ad1-4fad-e1c9-a71efbdf3c99"
      },
      "execution_count": null,
      "outputs": [
        {
          "output_type": "execute_result",
          "data": {
            "text/plain": [
              "np.float64(12.175635250367844)"
            ]
          },
          "metadata": {},
          "execution_count": 8
        }
      ]
    },
    {
      "cell_type": "markdown",
      "source": [
        "**3.Create a dataset and classify it into nominal, ordinal, interval, and ratio types.**\n"
      ],
      "metadata": {
        "id": "jtyvUeK8vgZy"
      }
    },
    {
      "cell_type": "code",
      "source": [
        "import pandas as pd\n",
        "df=pd.DataFrame({'Name':['priya', 'shelly', 'mehga', 'heena', 'neeraj'],\n",
        "                 'performance':['improved', 'good', 'best', 'perfect', 'excellent'],\n",
        "                 'age':[23, 21, 22,25,27],\n",
        "                 'salary':[75000, 65000,55000,68000,88000]})\n",
        "print(df)\n",
        "classification = {\n",
        "    \"Name\": \"Nominal\",\n",
        "    \"performance\": \"Ordinal\",\n",
        "    \"age\": \"Interval\",\n",
        "    \"Salary\": \"Ratio\"\n",
        "}"
      ],
      "metadata": {
        "colab": {
          "base_uri": "https://localhost:8080/"
        },
        "id": "4rZNRYFNrv0M",
        "outputId": "9e109f97-0a57-4cfa-e14f-06b49d678fdb"
      },
      "execution_count": null,
      "outputs": [
        {
          "output_type": "stream",
          "name": "stdout",
          "text": [
            "     Name performance  age  salary\n",
            "0   priya    improved   23   75000\n",
            "1  shelly        good   21   65000\n",
            "2   mehga        best   22   55000\n",
            "3   heena     perfect   25   68000\n",
            "4  neeraj   excellent   27   88000\n"
          ]
        }
      ]
    },
    {
      "cell_type": "markdown",
      "source": [
        "**4.Implement sampling techniques like random sampling and stratified sampling.**\n"
      ],
      "metadata": {
        "id": "iA6Aizflvtom"
      }
    },
    {
      "cell_type": "code",
      "source": [
        "import pandas as pd\n",
        "from sklearn.model_selection import train_test_split\n",
        "df = pd.DataFrame({'Name':['Shahil', 'shelly', 'mehga', 'heena', 'neeraj'],\n",
        "                 'performance':['improved', 'good', 'best', 'perfect', 'excellent'],\n",
        "                 'age':[23, 21, 22,23,25],\n",
        "                   'gender':['m','f','f','f','m']})\n",
        "print(\"Full Dataset:\")\n",
        "print(df)\n"
      ],
      "metadata": {
        "id": "Nro6vywbu2Mc",
        "colab": {
          "base_uri": "https://localhost:8080/"
        },
        "outputId": "634ff083-fc04-46b5-9064-acad8db35d86"
      },
      "execution_count": null,
      "outputs": [
        {
          "output_type": "stream",
          "name": "stdout",
          "text": [
            "Full Dataset:\n",
            "     Name performance  age gender\n",
            "0  Shahil    improved   23      m\n",
            "1  shelly        good   21      f\n",
            "2   mehga        best   22      f\n",
            "3   heena     perfect   23      f\n",
            "4  neeraj   excellent   25      m\n"
          ]
        }
      ]
    },
    {
      "cell_type": "code",
      "source": [
        "random_sample = df.sample(n=5, random_state=1)\n",
        "print(\"\\nRandom Sample (5 rows):\")\n",
        "print(random_sample)"
      ],
      "metadata": {
        "colab": {
          "base_uri": "https://localhost:8080/"
        },
        "id": "Uj8jdiKG9h1Z",
        "outputId": "e085509b-dbd1-4bbc-fa8c-8a94282e7b0a"
      },
      "execution_count": null,
      "outputs": [
        {
          "output_type": "stream",
          "name": "stdout",
          "text": [
            "\n",
            "Random Sample (5 rows):\n",
            "     Name performance  age gender\n",
            "2   mehga        best   22      f\n",
            "1  shelly        good   21      f\n",
            "4  neeraj   excellent   25      m\n",
            "0  Shahil    improved   23      m\n",
            "3   heena     perfect   23      f\n"
          ]
        }
      ]
    },
    {
      "cell_type": "code",
      "source": [
        "\n",
        "_, stratified_sample = train_test_split(\n",
        "    df,\n",
        "    test_size=0.5,\n",
        "    stratify=df['gender'],\n",
        "    random_state=1\n",
        ")\n",
        "\n",
        "print(\"\\nStratified Sample (50% of data, balanced gender):\")\n",
        "print(stratified_sample)\n"
      ],
      "metadata": {
        "colab": {
          "base_uri": "https://localhost:8080/"
        },
        "id": "1EzjwOmi9hzB",
        "outputId": "fefea51f-1358-406f-fece-c55160e78ed6"
      },
      "execution_count": null,
      "outputs": [
        {
          "output_type": "stream",
          "name": "stdout",
          "text": [
            "\n",
            "Stratified Sample (50% of data, balanced gender):\n",
            "     Name performance  age gender\n",
            "3   heena     perfect   23      f\n",
            "0  Shahil    improved   23      m\n",
            "2   mehga        best   22      f\n"
          ]
        }
      ]
    },
    {
      "cell_type": "markdown",
      "source": [
        "**5.Write a Python function to calculate the range of a dataset.**"
      ],
      "metadata": {
        "id": "Be7Sh7HywDdj"
      }
    },
    {
      "cell_type": "code",
      "source": [
        "import numpy as np\n",
        "data= [22,25,23,41,51,29,35,45,32,50,62,43,47,55]\n",
        "np.max(data)-np.min(data)"
      ],
      "metadata": {
        "id": "BCgk1SWt8bkk",
        "colab": {
          "base_uri": "https://localhost:8080/"
        },
        "outputId": "257ab005-9374-447f-a0c4-7d8459628587"
      },
      "execution_count": null,
      "outputs": [
        {
          "output_type": "execute_result",
          "data": {
            "text/plain": [
              "np.int64(40)"
            ]
          },
          "metadata": {},
          "execution_count": 1
        }
      ]
    },
    {
      "cell_type": "markdown",
      "source": [
        "**6.Create a dataset and plot its histogram to visualize skewness.**\n"
      ],
      "metadata": {
        "id": "BUxKNeBvwKRz"
      }
    },
    {
      "cell_type": "code",
      "source": [
        "import numpy as np\n",
        "import pandas as pd\n",
        "import matplotlib.pyplot as plt\n",
        "import seaborn as sns\n",
        "data = np.random.exponential(scale=2.0, size=1000)\n",
        "df = pd.DataFrame(data, columns=['Value'])\n",
        "plt.figure(figsize=(8, 5))\n",
        "sns.histplot(df['Value'], bins=30, kde=True, color='skyblue')\n",
        "plt.title('Histogram Showing Skewness')\n",
        "plt.xlabel('Value')\n",
        "plt.ylabel('Frequency')\n",
        "plt.grid(True)\n",
        "plt.show()"
      ],
      "metadata": {
        "colab": {
          "base_uri": "https://localhost:8080/",
          "height": 487
        },
        "id": "QrUGzrHqae0T",
        "outputId": "7fc953d6-5ad5-42f4-d7d9-e84c7c16c09e"
      },
      "execution_count": null,
      "outputs": [
        {
          "output_type": "display_data",
          "data": {
            "text/plain": [
              "<Figure size 800x500 with 1 Axes>"
            ],
            "image/png": "[encoded data removed]"
          },
          "metadata": {}
        }
      ]
    },
    {
      "cell_type": "markdown",
      "source": [
        "**7.Calculate skewness and kurtosis of a dataset using Python libraries.**\n"
      ],
      "metadata": {
        "id": "mDU-piErwcaW"
      }
    },
    {
      "cell_type": "code",
      "source": [
        "import numpy as np\n",
        "import pandas as pd\n",
        "from scipy.stats import skew, kurtosis\n",
        "data = np.random.exponential(scale=2.0, size=1000)\n",
        "series = pd.Series(data)\n",
        "data_skewness = skew(series)\n",
        "data_kurtosis = kurtosis(series)\n",
        "print(f\"Skewness: {data_skewness:.3f}\")\n",
        "print(f\"Kurtosis: {data_kurtosis:.3f}\")\n",
        "\n"
      ],
      "metadata": {
        "colab": {
          "base_uri": "https://localhost:8080/"
        },
        "id": "xMPT8BJGcItU",
        "outputId": "ce4d81e7-f4bc-463b-ccbb-c5d7bf1c865b"
      },
      "execution_count": null,
      "outputs": [
        {
          "output_type": "stream",
          "name": "stdout",
          "text": [
            "Skewness: 1.699\n",
            "Kurtosis: 3.488\n"
          ]
        }
      ]
    },
    {
      "cell_type": "markdown",
      "source": [
        "**8.Generate a dataset and demonstrate positive and negative skewness.**\n"
      ],
      "metadata": {
        "id": "GY-LOAqkwiv3"
      }
    },
    {
      "cell_type": "code",
      "source": [
        "import numpy as np\n",
        "import pandas as pd\n",
        "import matplotlib.pyplot as plt\n",
        "import seaborn as sns\n",
        "from scipy.stats import skew\n",
        "\n",
        "pos_skewed = np.random.exponential(scale=2.0, size=1000)\n",
        "\n",
        "neg_skewed = -np.random.exponential(scale=2.0, size=1000)\n",
        "\n",
        "pos_series = pd.Series(pos_skewed)\n",
        "neg_series = pd.Series(neg_skewed)\n",
        "\n",
        "plt.figure(figsize=(14, 5))\n",
        "\n",
        "plt.subplot(1, 2, 1)\n",
        "sns.histplot(pos_series, bins=30, kde=True, color='skyblue')\n",
        "plt.title(f'Positively Skewed Data\\nSkewness = {skew(pos_series):.2f}')\n",
        "plt.xlabel('Value')\n",
        "plt.ylabel('Frequency')\n",
        "\n",
        "plt.subplot(1, 2, 2)\n",
        "sns.histplot(neg_series, bins=30, kde=True, color='salmon')\n",
        "plt.title(f'Negatively Skewed Data\\nSkewness = {skew(neg_series):.2f}')\n",
        "plt.xlabel('Value')\n",
        "plt.ylabel('Frequency')\n",
        "\n",
        "plt.tight_layout()\n",
        "plt.show()\n"
      ],
      "metadata": {
        "colab": {
          "base_uri": "https://localhost:8080/",
          "height": 454
        },
        "id": "OgHkXCqSdRZQ",
        "outputId": "8c0d409a-bdf3-4df8-f0fc-afeb51b7f4e1"
      },
      "execution_count": null,
      "outputs": [
        {
          "output_type": "display_data",
          "data": {
            "text/plain": [
              "<Figure size 1400x500 with 2 Axes>"
            ],
            "image/png": "[encoded data removed]"
          },
          "metadata": {}
        }
      ]
    },
    {
      "cell_type": "markdown",
      "source": [
        "**9.Write a Python script to calculate covariance between two datasets.**\n"
      ],
      "metadata": {
        "id": "9j8jVEN5wpoA"
      }
    },
    {
      "cell_type": "code",
      "source": [
        "import seaborn as sns\n",
        "import matplotlib.pyplot as plt\n",
        "df = sns.load_dataset('tips')\n",
        "df.cov(numeric_only=True)"
      ],
      "metadata": {
        "colab": {
          "base_uri": "https://localhost:8080/",
          "height": 143
        },
        "id": "cP7SD9KId3h6",
        "outputId": "fd822e62-21db-49f0-be45-4f829497e1d1"
      },
      "execution_count": null,
      "outputs": [
        {
          "output_type": "execute_result",
          "data": {
            "text/plain": [
              "            total_bill       tip      size\n",
              "total_bill   79.252939  8.323502  5.065983\n",
              "tip           8.323502  1.914455  0.643906\n",
              "size          5.065983  0.643906  0.904591"
            ],
            "text/html": [
              "\n",
              "  <div id=\"df-c56d889d-5edd-4850-ab8b-a5a773a99e3e\" class=\"colab-df-container\">\n",
              "    <div>\n",
              "<style scoped>\n",
              "    .dataframe tbody tr th:only-of-type {\n",
              "        vertical-align: middle;\n",
              "    }\n",
              "\n",
              "    .dataframe tbody tr th {\n",
              "        vertical-align: top;\n",
              "    }\n",
              "\n",
              "    .dataframe thead th {\n",
              "        text-align: right;\n",
              "    }\n",
              "</style>\n",
              "<table border=\"1\" class=\"dataframe\">\n",
              "  <thead>\n",
              "    <tr style=\"text-align: right;\">\n",
              "      <th></th>\n",
              "      <th>total_bill</th>\n",
              "      <th>tip</th>\n",
              "      <th>size</th>\n",
              "    </tr>\n",
              "  </thead>\n",
              "  <tbody>\n",
              "    <tr>\n",
              "      <th>total_bill</th>\n",
              "      <td>79.252939</td>\n",
              "      <td>8.323502</td>\n",
              "      <td>5.065983</td>\n",
              "    </tr>\n",
              "    <tr>\n",
              "      <th>tip</th>\n",
              "      <td>8.323502</td>\n",
              "      <td>1.914455</td>\n",
              "      <td>0.643906</td>\n",
              "    </tr>\n",
              "    <tr>\n",
              "      <th>size</th>\n",
              "      <td>5.065983</td>\n",
              "      <td>0.643906</td>\n",
              "      <td>0.904591</td>\n",
              "    </tr>\n",
              "  </tbody>\n",
              "</table>\n",
              "</div>\n",
              "    <div class=\"colab-df-buttons\">\n",
              "\n",
              "  <div class=\"colab-df-container\">\n",
              "    <button class=\"colab-df-convert\" onclick=\"convertToInteractive('df-c56d889d-5edd-4850-ab8b-a5a773a99e3e')\"\n",
              "            title=\"Convert this dataframe to an interactive table.\"\n",
              "            style=\"display:none;\">\n",
              "\n",
              "  <svg xmlns=\"http://www.w3.org/2000/svg\" height=\"24px\" viewBox=\"0 -960 960 960\">\n",
              "    <path d=\"M120-120v-720h720v720H120Zm60-500h600v-160H180v160Zm220 220h160v-160H400v160Zm0 220h160v-160H400v160ZM180-400h160v-160H180v160Zm440 0h160v-160H620v160ZM180-180h160v-160H180v160Zm440 0h160v-160H620v160Z\"/>\n",
              "  </svg>\n",
              "    </button>\n",
              "\n",
              "  <style>\n",
              "    .colab-df-container {\n",
              "      display:flex;\n",
              "      gap: 12px;\n",
              "    }\n",
              "\n",
              "    .colab-df-convert {\n",
              "      background-color: #E8F0FE;\n",
              "      border: none;\n",
              "      border-radius: 50%;\n",
              "      cursor: pointer;\n",
              "      display: none;\n",
              "      fill: #1967D2;\n",
              "      height: 32px;\n",
              "      padding: 0 0 0 0;\n",
              "      width: 32px;\n",
              "    }\n",
              "\n",
              "    .colab-df-convert:hover {\n",
              "      background-color: #E2EBFA;\n",
              "      box-shadow: 0px 1px 2px rgba(60, 64, 67, 0.3), 0px 1px 3px 1px rgba(60, 64, 67, 0.15);\n",
              "      fill: #174EA6;\n",
              "    }\n",
              "\n",
              "    .colab-df-buttons div {\n",
              "      margin-bottom: 4px;\n",
              "    }\n",
              "\n",
              "    [theme=dark] .colab-df-convert {\n",
              "      background-color: #3B4455;\n",
              "      fill: #D2E3FC;\n",
              "    }\n",
              "\n",
              "    [theme=dark] .colab-df-convert:hover {\n",
              "      background-color: #434B5C;\n",
              "      box-shadow: 0px 1px 3px 1px rgba(0, 0, 0, 0.15);\n",
              "      filter: drop-shadow(0px 1px 2px rgba(0, 0, 0, 0.3));\n",
              "      fill: #FFFFFF;\n",
              "    }\n",
              "  </style>\n",
              "\n",
              "    <script>\n",
              "      const buttonEl =\n",
              "        document.querySelector('#df-c56d889d-5edd-4850-ab8b-a5a773a99e3e button.colab-df-convert');\n",
              "      buttonEl.style.display =\n",
              "        google.colab.kernel.accessAllowed ? 'block' : 'none';\n",
              "\n",
              "      async function convertToInteractive(key) {\n",
              "        const element = document.querySelector('#df-c56d889d-5edd-4850-ab8b-a5a773a99e3e');\n",
              "        const dataTable =\n",
              "          await google.colab.kernel.invokeFunction('convertToInteractive',\n",
              "                                                    [key], {});\n",
              "        if (!dataTable) return;\n",
              "\n",
              "        const docLinkHtml = 'Like what you see? Visit the ' +\n",
              "          '<a target=\"_blank\" href=https://colab.research.google.com/notebooks/data_table.ipynb>data table notebook</a>'\n",
              "          + ' to learn more about interactive tables.';\n",
              "        element.innerHTML = '';\n",
              "        dataTable['output_type'] = 'display_data';\n",
              "        await google.colab.output.renderOutput(dataTable, element);\n",
              "        const docLink = document.createElement('div');\n",
              "        docLink.innerHTML = docLinkHtml;\n",
              "        element.appendChild(docLink);\n",
              "      }\n",
              "    </script>\n",
              "  </div>\n",
              "\n",
              "\n",
              "    <div id=\"df-292372b9-7709-4970-ab2c-09b1e47af90a\">\n",
              "      <button class=\"colab-df-quickchart\" onclick=\"quickchart('df-292372b9-7709-4970-ab2c-09b1e47af90a')\"\n",
              "                title=\"Suggest charts\"\n",
              "                style=\"display:none;\">\n",
              "\n",
              "<svg xmlns=\"http://www.w3.org/2000/svg\" height=\"24px\"viewBox=\"0 0 24 24\"\n",
              "     width=\"24px\">\n",
              "    <g>\n",
              "        <path d=\"M19 3H5c-1.1 0-2 .9-2 2v14c0 1.1.9 2 2 2h14c1.1 0 2-.9 2-2V5c0-1.1-.9-2-2-2zM9 17H7v-7h2v7zm4 0h-2V7h2v10zm4 0h-2v-4h2v4z\"/>\n",
              "    </g>\n",
              "</svg>\n",
              "      </button>\n",
              "\n",
              "<style>\n",
              "  .colab-df-quickchart {\n",
              "      --bg-color: #E8F0FE;\n",
              "      --fill-color: #1967D2;\n",
              "      --hover-bg-color: #E2EBFA;\n",
              "      --hover-fill-color: #174EA6;\n",
              "      --disabled-fill-color: #AAA;\n",
              "      --disabled-bg-color: #DDD;\n",
              "  }\n",
              "\n",
              "  [theme=dark] .colab-df-quickchart {\n",
              "      --bg-color: #3B4455;\n",
              "      --fill-color: #D2E3FC;\n",
              "      --hover-bg-color: #434B5C;\n",
              "      --hover-fill-color: #FFFFFF;\n",
              "      --disabled-bg-color: #3B4455;\n",
              "      --disabled-fill-color: #666;\n",
              "  }\n",
              "\n",
              "  .colab-df-quickchart {\n",
              "    background-color: var(--bg-color);\n",
              "    border: none;\n",
              "    border-radius: 50%;\n",
              "    cursor: pointer;\n",
              "    display: none;\n",
              "    fill: var(--fill-color);\n",
              "    height: 32px;\n",
              "    padding: 0;\n",
              "    width: 32px;\n",
              "  }\n",
              "\n",
              "  .colab-df-quickchart:hover {\n",
              "    background-color: var(--hover-bg-color);\n",
              "    box-shadow: 0 1px 2px rgba(60, 64, 67, 0.3), 0 1px 3px 1px rgba(60, 64, 67, 0.15);\n",
              "    fill: var(--button-hover-fill-color);\n",
              "  }\n",
              "\n",
              "  .colab-df-quickchart-complete:disabled,\n",
              "  .colab-df-quickchart-complete:disabled:hover {\n",
              "    background-color: var(--disabled-bg-color);\n",
              "    fill: var(--disabled-fill-color);\n",
              "    box-shadow: none;\n",
              "  }\n",
              "\n",
              "  .colab-df-spinner {\n",
              "    border: 2px solid var(--fill-color);\n",
              "    border-color: transparent;\n",
              "    border-bottom-color: var(--fill-color);\n",
              "    animation:\n",
              "      spin 1s steps(1) infinite;\n",
              "  }\n",
              "\n",
              "  @keyframes spin {\n",
              "    0% {\n",
              "      border-color: transparent;\n",
              "      border-bottom-color: var(--fill-color);\n",
              "      border-left-color: var(--fill-color);\n",
              "    }\n",
              "    20% {\n",
              "      border-color: transparent;\n",
              "      border-left-color: var(--fill-color);\n",
              "      border-top-color: var(--fill-color);\n",
              "    }\n",
              "    30% {\n",
              "      border-color: transparent;\n",
              "      border-left-color: var(--fill-color);\n",
              "      border-top-color: var(--fill-color);\n",
              "      border-right-color: var(--fill-color);\n",
              "    }\n",
              "    40% {\n",
              "      border-color: transparent;\n",
              "      border-right-color: var(--fill-color);\n",
              "      border-top-color: var(--fill-color);\n",
              "    }\n",
              "    60% {\n",
              "      border-color: transparent;\n",
              "      border-right-color: var(--fill-color);\n",
              "    }\n",
              "    80% {\n",
              "      border-color: transparent;\n",
              "      border-right-color: var(--fill-color);\n",
              "      border-bottom-color: var(--fill-color);\n",
              "    }\n",
              "    90% {\n",
              "      border-color: transparent;\n",
              "      border-bottom-color: var(--fill-color);\n",
              "    }\n",
              "  }\n",
              "</style>\n",
              "\n",
              "      <script>\n",
              "        async function quickchart(key) {\n",
              "          const quickchartButtonEl =\n",
              "            document.querySelector('#' + key + ' button');\n",
              "          quickchartButtonEl.disabled = true;  // To prevent multiple clicks.\n",
              "          quickchartButtonEl.classList.add('colab-df-spinner');\n",
              "          try {\n",
              "            const charts = await google.colab.kernel.invokeFunction(\n",
              "                'suggestCharts', [key], {});\n",
              "          } catch (error) {\n",
              "            console.error('Error during call to suggestCharts:', error);\n",
              "          }\n",
              "          quickchartButtonEl.classList.remove('colab-df-spinner');\n",
              "          quickchartButtonEl.classList.add('colab-df-quickchart-complete');\n",
              "        }\n",
              "        (() => {\n",
              "          let quickchartButtonEl =\n",
              "            document.querySelector('#df-292372b9-7709-4970-ab2c-09b1e47af90a button');\n",
              "          quickchartButtonEl.style.display =\n",
              "            google.colab.kernel.accessAllowed ? 'block' : 'none';\n",
              "        })();\n",
              "      </script>\n",
              "    </div>\n",
              "\n",
              "    </div>\n",
              "  </div>\n"
            ],
            "application/vnd.google.colaboratory.intrinsic+json": {
              "type": "dataframe",
              "summary": "{\n  \"name\": \"df\",\n  \"rows\": 3,\n  \"fields\": [\n    {\n      \"column\": \"total_bill\",\n      \"properties\": {\n        \"dtype\": \"number\",\n        \"std\": 41.92314550467773,\n        \"min\": 5.065983437900561,\n        \"max\": 79.25293861397829,\n        \"num_unique_values\": 3,\n        \"samples\": [\n          79.25293861397829,\n          8.323501629224854,\n          5.065983437900561\n        ],\n        \"semantic_type\": \"\",\n        \"description\": \"\"\n      }\n    },\n    {\n      \"column\": \"tip\",\n      \"properties\": {\n        \"dtype\": \"number\",\n        \"std\": 4.116356773536808,\n        \"min\": 0.6439064291978684,\n        \"max\": 8.323501629224854,\n        \"num_unique_values\": 3,\n        \"samples\": [\n          8.323501629224854,\n          1.914454638062473,\n          0.6439064291978684\n        ],\n        \"semantic_type\": \"\",\n        \"description\": \"\"\n      }\n    },\n    {\n      \"column\": \"size\",\n      \"properties\": {\n        \"dtype\": \"number\",\n        \"std\": 2.4812600897532766,\n        \"min\": 0.6439064291978684,\n        \"max\": 5.065983437900561,\n        \"num_unique_values\": 3,\n        \"samples\": [\n          5.065983437900561,\n          0.6439064291978684,\n          0.9045908385616921\n        ],\n        \"semantic_type\": \"\",\n        \"description\": \"\"\n      }\n    }\n  ]\n}"
            }
          },
          "metadata": {},
          "execution_count": 32
        }
      ]
    },
    {
      "cell_type": "markdown",
      "source": [
        "**10.Write a Python script to calculate the correlation coefficient between two datasets.**\n"
      ],
      "metadata": {
        "id": "XiDquZeTwwPv"
      }
    },
    {
      "cell_type": "code",
      "source": [
        "import seaborn as sns\n",
        "import matplotlib.pyplot as plt\n",
        "df = sns.load_dataset('tips')\n",
        "df.corr(numeric_only=True)"
      ],
      "metadata": {
        "colab": {
          "base_uri": "https://localhost:8080/",
          "height": 143
        },
        "id": "GW_beUBVe_XN",
        "outputId": "d26eef36-6c3c-438a-9d91-2bcd72783265"
      },
      "execution_count": null,
      "outputs": [
        {
          "output_type": "execute_result",
          "data": {
            "text/plain": [
              "            total_bill       tip      size\n",
              "total_bill    1.000000  0.675734  0.598315\n",
              "tip           0.675734  1.000000  0.489299\n",
              "size          0.598315  0.489299  1.000000"
            ],
            "text/html": [
              "\n",
              "  <div id=\"df-fdf67ad2-d609-461d-84c3-74fa90a234ce\" class=\"colab-df-container\">\n",
              "    <div>\n",
              "<style scoped>\n",
              "    .dataframe tbody tr th:only-of-type {\n",
              "        vertical-align: middle;\n",
              "    }\n",
              "\n",
              "    .dataframe tbody tr th {\n",
              "        vertical-align: top;\n",
              "    }\n",
              "\n",
              "    .dataframe thead th {\n",
              "        text-align: right;\n",
              "    }\n",
              "</style>\n",
              "<table border=\"1\" class=\"dataframe\">\n",
              "  <thead>\n",
              "    <tr style=\"text-align: right;\">\n",
              "      <th></th>\n",
              "      <th>total_bill</th>\n",
              "      <th>tip</th>\n",
              "      <th>size</th>\n",
              "    </tr>\n",
              "  </thead>\n",
              "  <tbody>\n",
              "    <tr>\n",
              "      <th>total_bill</th>\n",
              "      <td>1.000000</td>\n",
              "      <td>0.675734</td>\n",
              "      <td>0.598315</td>\n",
              "    </tr>\n",
              "    <tr>\n",
              "      <th>tip</th>\n",
              "      <td>0.675734</td>\n",
              "      <td>1.000000</td>\n",
              "      <td>0.489299</td>\n",
              "    </tr>\n",
              "    <tr>\n",
              "      <th>size</th>\n",
              "      <td>0.598315</td>\n",
              "      <td>0.489299</td>\n",
              "      <td>1.000000</td>\n",
              "    </tr>\n",
              "  </tbody>\n",
              "</table>\n",
              "</div>\n",
              "    <div class=\"colab-df-buttons\">\n",
              "\n",
              "  <div class=\"colab-df-container\">\n",
              "    <button class=\"colab-df-convert\" onclick=\"convertToInteractive('df-fdf67ad2-d609-461d-84c3-74fa90a234ce')\"\n",
              "            title=\"Convert this dataframe to an interactive table.\"\n",
              "            style=\"display:none;\">\n",
              "\n",
              "  <svg xmlns=\"http://www.w3.org/2000/svg\" height=\"24px\" viewBox=\"0 -960 960 960\">\n",
              "    <path d=\"M120-120v-720h720v720H120Zm60-500h600v-160H180v160Zm220 220h160v-160H400v160Zm0 220h160v-160H400v160ZM180-400h160v-160H180v160Zm440 0h160v-160H620v160ZM180-180h160v-160H180v160Zm440 0h160v-160H620v160Z\"/>\n",
              "  </svg>\n",
              "    </button>\n",
              "\n",
              "  <style>\n",
              "    .colab-df-container {\n",
              "      display:flex;\n",
              "      gap: 12px;\n",
              "    }\n",
              "\n",
              "    .colab-df-convert {\n",
              "      background-color: #E8F0FE;\n",
              "      border: none;\n",
              "      border-radius: 50%;\n",
              "      cursor: pointer;\n",
              "      display: none;\n",
              "      fill: #1967D2;\n",
              "      height: 32px;\n",
              "      padding: 0 0 0 0;\n",
              "      width: 32px;\n",
              "    }\n",
              "\n",
              "    .colab-df-convert:hover {\n",
              "      background-color: #E2EBFA;\n",
              "      box-shadow: 0px 1px 2px rgba(60, 64, 67, 0.3), 0px 1px 3px 1px rgba(60, 64, 67, 0.15);\n",
              "      fill: #174EA6;\n",
              "    }\n",
              "\n",
              "    .colab-df-buttons div {\n",
              "      margin-bottom: 4px;\n",
              "    }\n",
              "\n",
              "    [theme=dark] .colab-df-convert {\n",
              "      background-color: #3B4455;\n",
              "      fill: #D2E3FC;\n",
              "    }\n",
              "\n",
              "    [theme=dark] .colab-df-convert:hover {\n",
              "      background-color: #434B5C;\n",
              "      box-shadow: 0px 1px 3px 1px rgba(0, 0, 0, 0.15);\n",
              "      filter: drop-shadow(0px 1px 2px rgba(0, 0, 0, 0.3));\n",
              "      fill: #FFFFFF;\n",
              "    }\n",
              "  </style>\n",
              "\n",
              "    <script>\n",
              "      const buttonEl =\n",
              "        document.querySelector('#df-fdf67ad2-d609-461d-84c3-74fa90a234ce button.colab-df-convert');\n",
              "      buttonEl.style.display =\n",
              "        google.colab.kernel.accessAllowed ? 'block' : 'none';\n",
              "\n",
              "      async function convertToInteractive(key) {\n",
              "        const element = document.querySelector('#df-fdf67ad2-d609-461d-84c3-74fa90a234ce');\n",
              "        const dataTable =\n",
              "          await google.colab.kernel.invokeFunction('convertToInteractive',\n",
              "                                                    [key], {});\n",
              "        if (!dataTable) return;\n",
              "\n",
              "        const docLinkHtml = 'Like what you see? Visit the ' +\n",
              "          '<a target=\"_blank\" href=https://colab.research.google.com/notebooks/data_table.ipynb>data table notebook</a>'\n",
              "          + ' to learn more about interactive tables.';\n",
              "        element.innerHTML = '';\n",
              "        dataTable['output_type'] = 'display_data';\n",
              "        await google.colab.output.renderOutput(dataTable, element);\n",
              "        const docLink = document.createElement('div');\n",
              "        docLink.innerHTML = docLinkHtml;\n",
              "        element.appendChild(docLink);\n",
              "      }\n",
              "    </script>\n",
              "  </div>\n",
              "\n",
              "\n",
              "    <div id=\"df-40a93135-8b9a-46a6-9f6e-71d6ab43c6df\">\n",
              "      <button class=\"colab-df-quickchart\" onclick=\"quickchart('df-40a93135-8b9a-46a6-9f6e-71d6ab43c6df')\"\n",
              "                title=\"Suggest charts\"\n",
              "                style=\"display:none;\">\n",
              "\n",
              "<svg xmlns=\"http://www.w3.org/2000/svg\" height=\"24px\"viewBox=\"0 0 24 24\"\n",
              "     width=\"24px\">\n",
              "    <g>\n",
              "        <path d=\"M19 3H5c-1.1 0-2 .9-2 2v14c0 1.1.9 2 2 2h14c1.1 0 2-.9 2-2V5c0-1.1-.9-2-2-2zM9 17H7v-7h2v7zm4 0h-2V7h2v10zm4 0h-2v-4h2v4z\"/>\n",
              "    </g>\n",
              "</svg>\n",
              "      </button>\n",
              "\n",
              "<style>\n",
              "  .colab-df-quickchart {\n",
              "      --bg-color: #E8F0FE;\n",
              "      --fill-color: #1967D2;\n",
              "      --hover-bg-color: #E2EBFA;\n",
              "      --hover-fill-color: #174EA6;\n",
              "      --disabled-fill-color: #AAA;\n",
              "      --disabled-bg-color: #DDD;\n",
              "  }\n",
              "\n",
              "  [theme=dark] .colab-df-quickchart {\n",
              "      --bg-color: #3B4455;\n",
              "      --fill-color: #D2E3FC;\n",
              "      --hover-bg-color: #434B5C;\n",
              "      --hover-fill-color: #FFFFFF;\n",
              "      --disabled-bg-color: #3B4455;\n",
              "      --disabled-fill-color: #666;\n",
              "  }\n",
              "\n",
              "  .colab-df-quickchart {\n",
              "    background-color: var(--bg-color);\n",
              "    border: none;\n",
              "    border-radius: 50%;\n",
              "    cursor: pointer;\n",
              "    display: none;\n",
              "    fill: var(--fill-color);\n",
              "    height: 32px;\n",
              "    padding: 0;\n",
              "    width: 32px;\n",
              "  }\n",
              "\n",
              "  .colab-df-quickchart:hover {\n",
              "    background-color: var(--hover-bg-color);\n",
              "    box-shadow: 0 1px 2px rgba(60, 64, 67, 0.3), 0 1px 3px 1px rgba(60, 64, 67, 0.15);\n",
              "    fill: var(--button-hover-fill-color);\n",
              "  }\n",
              "\n",
              "  .colab-df-quickchart-complete:disabled,\n",
              "  .colab-df-quickchart-complete:disabled:hover {\n",
              "    background-color: var(--disabled-bg-color);\n",
              "    fill: var(--disabled-fill-color);\n",
              "    box-shadow: none;\n",
              "  }\n",
              "\n",
              "  .colab-df-spinner {\n",
              "    border: 2px solid var(--fill-color);\n",
              "    border-color: transparent;\n",
              "    border-bottom-color: var(--fill-color);\n",
              "    animation:\n",
              "      spin 1s steps(1) infinite;\n",
              "  }\n",
              "\n",
              "  @keyframes spin {\n",
              "    0% {\n",
              "      border-color: transparent;\n",
              "      border-bottom-color: var(--fill-color);\n",
              "      border-left-color: var(--fill-color);\n",
              "    }\n",
              "    20% {\n",
              "      border-color: transparent;\n",
              "      border-left-color: var(--fill-color);\n",
              "      border-top-color: var(--fill-color);\n",
              "    }\n",
              "    30% {\n",
              "      border-color: transparent;\n",
              "      border-left-color: var(--fill-color);\n",
              "      border-top-color: var(--fill-color);\n",
              "      border-right-color: var(--fill-color);\n",
              "    }\n",
              "    40% {\n",
              "      border-color: transparent;\n",
              "      border-right-color: var(--fill-color);\n",
              "      border-top-color: var(--fill-color);\n",
              "    }\n",
              "    60% {\n",
              "      border-color: transparent;\n",
              "      border-right-color: var(--fill-color);\n",
              "    }\n",
              "    80% {\n",
              "      border-color: transparent;\n",
              "      border-right-color: var(--fill-color);\n",
              "      border-bottom-color: var(--fill-color);\n",
              "    }\n",
              "    90% {\n",
              "      border-color: transparent;\n",
              "      border-bottom-color: var(--fill-color);\n",
              "    }\n",
              "  }\n",
              "</style>\n",
              "\n",
              "      <script>\n",
              "        async function quickchart(key) {\n",
              "          const quickchartButtonEl =\n",
              "            document.querySelector('#' + key + ' button');\n",
              "          quickchartButtonEl.disabled = true;  // To prevent multiple clicks.\n",
              "          quickchartButtonEl.classList.add('colab-df-spinner');\n",
              "          try {\n",
              "            const charts = await google.colab.kernel.invokeFunction(\n",
              "                'suggestCharts', [key], {});\n",
              "          } catch (error) {\n",
              "            console.error('Error during call to suggestCharts:', error);\n",
              "          }\n",
              "          quickchartButtonEl.classList.remove('colab-df-spinner');\n",
              "          quickchartButtonEl.classList.add('colab-df-quickchart-complete');\n",
              "        }\n",
              "        (() => {\n",
              "          let quickchartButtonEl =\n",
              "            document.querySelector('#df-40a93135-8b9a-46a6-9f6e-71d6ab43c6df button');\n",
              "          quickchartButtonEl.style.display =\n",
              "            google.colab.kernel.accessAllowed ? 'block' : 'none';\n",
              "        })();\n",
              "      </script>\n",
              "    </div>\n",
              "\n",
              "    </div>\n",
              "  </div>\n"
            ],
            "application/vnd.google.colaboratory.intrinsic+json": {
              "type": "dataframe",
              "summary": "{\n  \"name\": \"df\",\n  \"rows\": 3,\n  \"fields\": [\n    {\n      \"column\": \"total_bill\",\n      \"properties\": {\n        \"dtype\": \"number\",\n        \"std\": 0.21310904884233575,\n        \"min\": 0.5983151309049014,\n        \"max\": 1.0,\n        \"num_unique_values\": 3,\n        \"samples\": [\n          1.0,\n          0.6757341092113648,\n          0.5983151309049014\n        ],\n        \"semantic_type\": \"\",\n        \"description\": \"\"\n      }\n    },\n    {\n      \"column\": \"tip\",\n      \"properties\": {\n        \"dtype\": \"number\",\n        \"std\": 0.25843188743740914,\n        \"min\": 0.48929877523035714,\n        \"max\": 1.0,\n        \"num_unique_values\": 3,\n        \"samples\": [\n          0.6757341092113648,\n          1.0,\n          0.48929877523035714\n        ],\n        \"semantic_type\": \"\",\n        \"description\": \"\"\n      }\n    },\n    {\n      \"column\": \"size\",\n      \"properties\": {\n        \"dtype\": \"number\",\n        \"std\": 0.2689643845213583,\n        \"min\": 0.48929877523035714,\n        \"max\": 1.0,\n        \"num_unique_values\": 3,\n        \"samples\": [\n          0.5983151309049014,\n          0.48929877523035714,\n          1.0\n        ],\n        \"semantic_type\": \"\",\n        \"description\": \"\"\n      }\n    }\n  ]\n}"
            }
          },
          "metadata": {},
          "execution_count": 33
        }
      ]
    },
    {
      "cell_type": "markdown",
      "source": [
        "**11.Create a scatter plot to visualize the relationship between two variables.**\n"
      ],
      "metadata": {
        "id": "oEokrQe4w94p"
      }
    },
    {
      "cell_type": "code",
      "source": [
        "import seaborn as sns\n",
        "import matplotlib.pyplot as plt\n",
        "df = sns.load_dataset('tips')\n",
        "sns.scatterplot(x='total_bill', y='tip', data=df)"
      ],
      "metadata": {
        "colab": {
          "base_uri": "https://localhost:8080/",
          "height": 467
        },
        "id": "OyusNZYKf3R2",
        "outputId": "957d8f90-0dd0-4549-9812-1a201dcf913f"
      },
      "execution_count": null,
      "outputs": [
        {
          "output_type": "execute_result",
          "data": {
            "text/plain": [
              "<Axes: xlabel='total_bill', ylabel='tip'>"
            ]
          },
          "metadata": {},
          "execution_count": 16
        },
        {
          "output_type": "display_data",
          "data": {
            "text/plain": [
              "<Figure size 640x480 with 1 Axes>"
            ],
            "image/png": "[encoded data removed]"
          },
          "metadata": {}
        }
      ]
    },
    {
      "cell_type": "markdown",
      "source": [
        "**12.Implement and compare simple random sampling and systematic sampling.**\n"
      ],
      "metadata": {
        "id": "lbvMGX-vxAkH"
      }
    },
    {
      "cell_type": "code",
      "source": [
        "import pandas as pd\n",
        "import numpy as np\n",
        "\n",
        "data = {'ID': np.arange(1, 101), 'Value': np.random.randint(50, 100, 100)}\n",
        "df = pd.DataFrame(data)\n",
        "print(\"Original Dataset:\")\n",
        "print(df.head())\n",
        "\n",
        "random_sample = df.sample(n=10, random_state=42)\n",
        "print(\"\\nSimple Random Sample:\")\n",
        "print(random_sample.sort_values(by='ID'))\n",
        "\n",
        "def systematic_sampling(df, sample_size):\n",
        "    n = len(df)\n",
        "    k = n // sample_size\n",
        "    start = np.random.randint(0, k)\n",
        "    indices = list(range(start, n, k))[:sample_size]\n",
        "    return df.iloc[indices]\n",
        "\n",
        "systematic_sample = systematic_sampling(df, 10)\n",
        "print(\"\\nSystematic Sample:\")\n",
        "print(systematic_sample.sort_values(by='ID'))\n",
        "\n"
      ],
      "metadata": {
        "colab": {
          "base_uri": "https://localhost:8080/"
        },
        "id": "OAXRX3-Tvx_u",
        "outputId": "909a7d4a-bf02-4c55-a5a4-90d4c257f3ef"
      },
      "execution_count": null,
      "outputs": [
        {
          "output_type": "stream",
          "name": "stdout",
          "text": [
            "Original Dataset:\n",
            "   ID  Value\n",
            "0   1     82\n",
            "1   2     97\n",
            "2   3     56\n",
            "3   4     66\n",
            "4   5     91\n",
            "\n",
            "Simple Random Sample:\n",
            "    ID  Value\n",
            "0    1     82\n",
            "10  11     64\n",
            "22  23     88\n",
            "39  40     95\n",
            "44  45     55\n",
            "45  46     54\n",
            "53  54     82\n",
            "70  71     82\n",
            "80  81     66\n",
            "83  84     68\n",
            "\n",
            "Systematic Sample:\n",
            "    ID  Value\n",
            "4    5     91\n",
            "14  15     51\n",
            "24  25     69\n",
            "34  35     54\n",
            "44  45     55\n",
            "54  55     51\n",
            "64  65     94\n",
            "74  75     51\n",
            "84  85     78\n",
            "94  95     74\n"
          ]
        }
      ]
    },
    {
      "cell_type": "markdown",
      "source": [
        "**13.Calculate the mean, median, and mode of grouped data.**"
      ],
      "metadata": {
        "id": "azTuT4WJxSnG"
      }
    },
    {
      "cell_type": "code",
      "source": [
        "import pandas as pd\n",
        "data = {\n",
        "    'Class Interval': ['10-20', '20-30', '30-40', '40-50', '50-60'],\n",
        "    'Lower': [10, 20, 30, 40, 50],\n",
        "    'Upper': [20, 30, 40, 50, 60],\n",
        "    'Frequency': [5, 8, 15, 16, 6]\n",
        "}\n",
        "\n",
        "df = pd.DataFrame(data)\n",
        "\n",
        "df['Midpoint'] = (df['Lower'] + df['Upper']) / 2\n",
        "\n",
        "mean = (df['Midpoint'] * df['Frequency']).sum() / df['Frequency'].sum()\n",
        "\n",
        "print(\"Mean:\", round(mean, 2))\n",
        "\n",
        "\n",
        "df['Cumulative Frequency'] = df['Frequency'].cumsum()\n",
        "\n",
        "N = df['Frequency'].sum()\n",
        "median_class_index = df[df['Cumulative Frequency'] >= N / 2].index[0]\n",
        "\n",
        "L = df.loc[median_class_index, 'Lower']\n",
        "F = df.loc[median_class_index - 1, 'Cumulative Frequency'] if median_class_index > 0 else 0\n",
        "f = df.loc[median_class_index, 'Frequency']\n",
        "h = df.loc[median_class_index, 'Upper'] - df.loc[median_class_index, 'Lower']\n",
        "\n",
        "median = L + ((N / 2 - F) / f) * h\n",
        "\n",
        "print(\"Median:\", round(median, 2))\n",
        "\n",
        "modal_class_index = df['Frequency'].idxmax()\n",
        "\n",
        "L = df.loc[modal_class_index, 'Lower']\n",
        "f1 = df.loc[modal_class_index, 'Frequency']\n",
        "f0 = df.loc[modal_class_index - 1, 'Frequency'] if modal_class_index > 0 else 0\n",
        "f2 = df.loc[modal_class_index + 1, 'Frequency'] if modal_class_index < len(df) - 1 else 0\n",
        "h = df.loc[modal_class_index, 'Upper'] - df.loc[modal_class_index, 'Lower']\n",
        "\n",
        "mode = L + ((f1 - f0) / (2 * f1 - f0 - f2)) * h\n",
        "\n",
        "print(\"Mode:\", round(mode, 2))"
      ],
      "metadata": {
        "colab": {
          "base_uri": "https://localhost:8080/"
        },
        "id": "sOpQnwUqwNuA",
        "outputId": "a5797e10-2651-46dd-955f-6daab60fc767"
      },
      "execution_count": null,
      "outputs": [
        {
          "output_type": "stream",
          "name": "stdout",
          "text": [
            "Mean: 37.0\n",
            "Median: 38.0\n",
            "Mode: 40.91\n"
          ]
        }
      ]
    },
    {
      "cell_type": "markdown",
      "source": [
        "**14.Simulate data using Python and calculate its central tendency and dispersion.**"
      ],
      "metadata": {
        "id": "uokIlAokxTf4"
      }
    },
    {
      "cell_type": "code",
      "source": [
        "import numpy as np\n",
        "import scipy.stats as stats\n",
        "\n",
        "np.random.seed(42)\n",
        "data = np.random.normal(loc=50, scale=10, size=100)\n",
        "\n",
        "\n",
        "mean = np.mean(data)\n",
        "median = np.median(data)\n",
        "mode = stats.mode(data, keepdims=False).mode\n",
        "\n",
        "variance = np.var(data)\n",
        "std_dev = np.std(data)\n",
        "data_range = np.ptp(data)\n",
        "\n",
        "print(\"Central Tendency:\")\n",
        "print(f\"Mean: {mean:.2f}\")\n",
        "print(f\"Median: {median:.2f}\")\n",
        "print(f\"Mode: {mode:.2f}\")\n",
        "\n",
        "print(\"\\nDispersion:\")\n",
        "print(f\"Variance: {variance:.2f}\")\n",
        "print(f\"Standard Deviation: {std_dev:.2f}\")\n",
        "print(f\"Range: {data_range:.2f}\")\n"
      ],
      "metadata": {
        "colab": {
          "base_uri": "https://localhost:8080/"
        },
        "id": "SKPgwvIyz98V",
        "outputId": "6a75bad7-c7af-47f8-b2d1-efa1a99f148f"
      },
      "execution_count": null,
      "outputs": [
        {
          "output_type": "stream",
          "name": "stdout",
          "text": [
            "Central Tendency:\n",
            "Mean: 48.96\n",
            "Median: 48.73\n",
            "Mode: 23.80\n",
            "\n",
            "Dispersion:\n",
            "Variance: 81.65\n",
            "Standard Deviation: 9.04\n",
            "Range: 44.72\n"
          ]
        }
      ]
    },
    {
      "cell_type": "markdown",
      "source": [
        "**15.Use NumPy or pandas to summarize a dataset's descriptive statistics.**"
      ],
      "metadata": {
        "id": "VgVubRKpx_X_"
      }
    },
    {
      "cell_type": "code",
      "source": [
        "import pandas as pd\n",
        "import numpy as np\n",
        "\n",
        "\n",
        "np.random.seed(0)\n",
        "data = {\n",
        "    'age': np.random.randint(18, 70, size=100),\n",
        "    'income': np.random.normal(50000, 15000, size=100),\n",
        "    'score': np.random.uniform(0, 100, size=100)\n",
        "}\n",
        "\n",
        "df = pd.DataFrame(data)\n",
        "\n",
        "summary = df.describe()\n",
        "\n",
        "print(\"Descriptive Statistics Summary:\")\n",
        "print(summary)"
      ],
      "metadata": {
        "colab": {
          "base_uri": "https://localhost:8080/"
        },
        "id": "N6QsEie817VY",
        "outputId": "39a0e1d9-1a32-41d2-8b35-173bb0db9751"
      },
      "execution_count": null,
      "outputs": [
        {
          "output_type": "stream",
          "name": "stdout",
          "text": [
            "Descriptive Statistics Summary:\n",
            "              age        income       score\n",
            "count  100.000000    100.000000  100.000000\n",
            "mean    41.570000  49410.165856   53.700850\n",
            "std     15.537023  14644.030894   28.510382\n",
            "min     18.000000  14929.307736    0.005536\n",
            "25%     29.000000  39910.301009   22.938621\n",
            "50%     41.000000  49359.677986   56.261139\n",
            "75%     55.250000  57167.191058   75.033321\n",
            "max     69.000000  84916.071638   98.503228\n"
          ]
        }
      ]
    },
    {
      "cell_type": "markdown",
      "source": [
        "**16.Plot a boxplot to understand the spread and identify outliers.**\n"
      ],
      "metadata": {
        "id": "nEFQ4n7NyMyu"
      }
    },
    {
      "cell_type": "code",
      "source": [
        "data= [2,3,6,7,12,19,34,25,39,45,23,67,120,185,195,27,14]\n",
        "import seaborn as sns\n",
        "sns.boxplot(data)"
      ],
      "metadata": {
        "colab": {
          "base_uri": "https://localhost:8080/",
          "height": 428
        },
        "id": "4lQBC2Nh2cR-",
        "outputId": "c06a545e-d8ae-4c33-ef51-e404aa88f7a4"
      },
      "execution_count": null,
      "outputs": [
        {
          "output_type": "execute_result",
          "data": {
            "text/plain": [
              "<Axes: >"
            ]
          },
          "metadata": {},
          "execution_count": 24
        },
        {
          "output_type": "display_data",
          "data": {
            "text/plain": [
              "<Figure size 640x480 with 1 Axes>"
            ],
            "image/png": "[encoded data removed]"
          },
          "metadata": {}
        }
      ]
    },
    {
      "cell_type": "markdown",
      "source": [
        "**17.Calculate the interquartile range (IQR) of a dataset.**"
      ],
      "metadata": {
        "id": "9X4zIJ1EyYv1"
      }
    },
    {
      "cell_type": "code",
      "source": [
        "import numpy as np\n",
        "\n",
        "np.random.seed(1)\n",
        "data = np.random.normal(loc=100, scale=15, size=100)\n",
        "\n",
        "Q1 = np.percentile(data, 25)\n",
        "Q3 = np.percentile(data, 75)\n",
        "\n",
        "IQR = Q3 - Q1\n",
        "\n",
        "print(f\"Q1 (25th percentile): {Q1:.2f}\")\n",
        "print(f\"Q3 (75th percentile): {Q3:.2f}\")\n",
        "print(f\"IQR (Interquartile Range): {IQR:.2f}\")\n"
      ],
      "metadata": {
        "colab": {
          "base_uri": "https://localhost:8080/"
        },
        "id": "njzra5ycuu1J",
        "outputId": "7fa49a26-89d4-4578-832f-eea30ce21bd6"
      },
      "execution_count": null,
      "outputs": [
        {
          "output_type": "stream",
          "name": "stdout",
          "text": [
            "Q1 (25th percentile): 90.79\n",
            "Q3 (75th percentile): 109.56\n",
            "IQR (Interquartile Range): 18.77\n"
          ]
        }
      ]
    },
    {
      "cell_type": "markdown",
      "source": [
        "**18.Implement Z-score normalization and explain its significance**\n"
      ],
      "metadata": {
        "id": "v1e-H4Vnyh3z"
      }
    },
    {
      "cell_type": "code",
      "source": [
        "import numpy as np\n",
        "from scipy import stats\n",
        "\n",
        "data = np.array([55, 88, 78, 90, 79, 102, 60, 95])\n",
        "\n",
        "z_scores = stats.zscore(data)\n",
        "\n",
        "for i, z in enumerate(z_scores):\n",
        "    print(f\"Original: {data[i]}, Z-score: {z:.2f}\")\n"
      ],
      "metadata": {
        "colab": {
          "base_uri": "https://localhost:8080/"
        },
        "id": "hKeYcxi-3o65",
        "outputId": "d8525c39-f50c-4d53-85ae-41056aab5f84"
      },
      "execution_count": null,
      "outputs": [
        {
          "output_type": "stream",
          "name": "stdout",
          "text": [
            "Original: 55, Z-score: -1.68\n",
            "Original: 88, Z-score: 0.46\n",
            "Original: 78, Z-score: -0.19\n",
            "Original: 90, Z-score: 0.59\n",
            "Original: 79, Z-score: -0.12\n",
            "Original: 102, Z-score: 1.37\n",
            "Original: 60, Z-score: -1.36\n",
            "Original: 95, Z-score: 0.92\n"
          ]
        }
      ]
    },
    {
      "cell_type": "markdown",
      "source": [
        "**19.Compare two datasets using their standard deviations.**\n"
      ],
      "metadata": {
        "id": "8LG8JI48y_tB"
      }
    },
    {
      "cell_type": "code",
      "source": [
        "import numpy as np\n",
        "\n",
        "np.random.seed(0)\n",
        "dataset1 = np.random.normal(loc=50, scale=5, size=100)\n",
        "dataset2 = np.random.normal(loc=50, scale=15, size=100)\n",
        "\n",
        "std1 = np.std(dataset1)\n",
        "std2 = np.std(dataset2)\n",
        "\n",
        "print(f\"Dataset 1 - Mean: {np.mean(dataset1):.2f}, Std Dev: {std1:.2f}\")\n",
        "print(f\"Dataset 2 - Mean: {np.mean(dataset2):.2f}, Std Dev: {std2:.2f}\")\n",
        "\n",
        "if std1 > std2:\n",
        "    print(\"Dataset 1 has greater variability.\")\n",
        "elif std1 < std2:\n",
        "    print(\"Dataset 2 has greater variability.\")\n",
        "else:\n",
        "    print(\"Both datasets have equal variability.\")"
      ],
      "metadata": {
        "colab": {
          "base_uri": "https://localhost:8080/"
        },
        "id": "yXgsPhQY4vfq",
        "outputId": "9a0f5e91-1d4f-4d48-93ed-77e8b90997e4"
      },
      "execution_count": null,
      "outputs": [
        {
          "output_type": "stream",
          "name": "stdout",
          "text": [
            "Dataset 1 - Mean: 50.30, Std Dev: 5.04\n",
            "Dataset 2 - Mean: 51.23, Std Dev: 15.52\n",
            "Dataset 2 has greater variability.\n"
          ]
        }
      ]
    },
    {
      "cell_type": "markdown",
      "source": [
        "**20.Write a Python program to visualize covariance using a heatmap.**\n"
      ],
      "metadata": {
        "id": "c9s6naRIzCOC"
      }
    },
    {
      "cell_type": "code",
      "source": [
        "import seaborn as sns\n",
        "import matplotlib.pyplot as plt\n",
        "df = sns.load_dataset('tips')\n",
        "cov=df.cov(numeric_only=True)\n",
        "sns.heatmap(cov, annot=True)"
      ],
      "metadata": {
        "colab": {
          "base_uri": "https://localhost:8080/",
          "height": 447
        },
        "id": "pKuBGE0g5K4n",
        "outputId": "8a11202e-a793-47bb-fd1c-2913dc4421e6"
      },
      "execution_count": null,
      "outputs": [
        {
          "output_type": "execute_result",
          "data": {
            "text/plain": [
              "<Axes: >"
            ]
          },
          "metadata": {},
          "execution_count": 30
        },
        {
          "output_type": "display_data",
          "data": {
            "text/plain": [
              "<Figure size 640x480 with 2 Axes>"
            ],
            "image/png": "[encoded data removed]"
          },
          "metadata": {}
        }
      ]
    },
    {
      "cell_type": "markdown",
      "source": [
        "**21.Use seaborn to create a correlation matrix for a dataset.**\n"
      ],
      "metadata": {
        "id": "Rj7y1FIazEP_"
      }
    },
    {
      "cell_type": "code",
      "source": [
        "import seaborn as sns\n",
        "import pandas as pd\n",
        "import matplotlib.pyplot as plt\n",
        "\n",
        "df = sns.load_dataset('iris')\n",
        "\n",
        "df.corr(numeric_only=True)"
      ],
      "metadata": {
        "colab": {
          "base_uri": "https://localhost:8080/",
          "height": 175
        },
        "id": "ah1G7NLK63Xa",
        "outputId": "096d0c52-1b43-41d9-fa15-44be37b94ac1"
      },
      "execution_count": null,
      "outputs": [
        {
          "output_type": "execute_result",
          "data": {
            "text/plain": [
              "              sepal_length  sepal_width  petal_length  petal_width\n",
              "sepal_length      1.000000    -0.117570      0.871754     0.817941\n",
              "sepal_width      -0.117570     1.000000     -0.428440    -0.366126\n",
              "petal_length      0.871754    -0.428440      1.000000     0.962865\n",
              "petal_width       0.817941    -0.366126      0.962865     1.000000"
            ],
            "text/html": [
              "\n",
              "  <div id=\"df-74a455e7-bb28-46aa-8fa4-dbc18cc4a7c7\" class=\"colab-df-container\">\n",
              "    <div>\n",
              "<style scoped>\n",
              "    .dataframe tbody tr th:only-of-type {\n",
              "        vertical-align: middle;\n",
              "    }\n",
              "\n",
              "    .dataframe tbody tr th {\n",
              "        vertical-align: top;\n",
              "    }\n",
              "\n",
              "    .dataframe thead th {\n",
              "        text-align: right;\n",
              "    }\n",
              "</style>\n",
              "<table border=\"1\" class=\"dataframe\">\n",
              "  <thead>\n",
              "    <tr style=\"text-align: right;\">\n",
              "      <th></th>\n",
              "      <th>sepal_length</th>\n",
              "      <th>sepal_width</th>\n",
              "      <th>petal_length</th>\n",
              "      <th>petal_width</th>\n",
              "    </tr>\n",
              "  </thead>\n",
              "  <tbody>\n",
              "    <tr>\n",
              "      <th>sepal_length</th>\n",
              "      <td>1.000000</td>\n",
              "      <td>-0.117570</td>\n",
              "      <td>0.871754</td>\n",
              "      <td>0.817941</td>\n",
              "    </tr>\n",
              "    <tr>\n",
              "      <th>sepal_width</th>\n",
              "      <td>-0.117570</td>\n",
              "      <td>1.000000</td>\n",
              "      <td>-0.428440</td>\n",
              "      <td>-0.366126</td>\n",
              "    </tr>\n",
              "    <tr>\n",
              "      <th>petal_length</th>\n",
              "      <td>0.871754</td>\n",
              "      <td>-0.428440</td>\n",
              "      <td>1.000000</td>\n",
              "      <td>0.962865</td>\n",
              "    </tr>\n",
              "    <tr>\n",
              "      <th>petal_width</th>\n",
              "      <td>0.817941</td>\n",
              "      <td>-0.366126</td>\n",
              "      <td>0.962865</td>\n",
              "      <td>1.000000</td>\n",
              "    </tr>\n",
              "  </tbody>\n",
              "</table>\n",
              "</div>\n",
              "    <div class=\"colab-df-buttons\">\n",
              "\n",
              "  <div class=\"colab-df-container\">\n",
              "    <button class=\"colab-df-convert\" onclick=\"convertToInteractive('df-74a455e7-bb28-46aa-8fa4-dbc18cc4a7c7')\"\n",
              "            title=\"Convert this dataframe to an interactive table.\"\n",
              "            style=\"display:none;\">\n",
              "\n",
              "  <svg xmlns=\"http://www.w3.org/2000/svg\" height=\"24px\" viewBox=\"0 -960 960 960\">\n",
              "    <path d=\"M120-120v-720h720v720H120Zm60-500h600v-160H180v160Zm220 220h160v-160H400v160Zm0 220h160v-160H400v160ZM180-400h160v-160H180v160Zm440 0h160v-160H620v160ZM180-180h160v-160H180v160Zm440 0h160v-160H620v160Z\"/>\n",
              "  </svg>\n",
              "    </button>\n",
              "\n",
              "  <style>\n",
              "    .colab-df-container {\n",
              "      display:flex;\n",
              "      gap: 12px;\n",
              "    }\n",
              "\n",
              "    .colab-df-convert {\n",
              "      background-color: #E8F0FE;\n",
              "      border: none;\n",
              "      border-radius: 50%;\n",
              "      cursor: pointer;\n",
              "      display: none;\n",
              "      fill: #1967D2;\n",
              "      height: 32px;\n",
              "      padding: 0 0 0 0;\n",
              "      width: 32px;\n",
              "    }\n",
              "\n",
              "    .colab-df-convert:hover {\n",
              "      background-color: #E2EBFA;\n",
              "      box-shadow: 0px 1px 2px rgba(60, 64, 67, 0.3), 0px 1px 3px 1px rgba(60, 64, 67, 0.15);\n",
              "      fill: #174EA6;\n",
              "    }\n",
              "\n",
              "    .colab-df-buttons div {\n",
              "      margin-bottom: 4px;\n",
              "    }\n",
              "\n",
              "    [theme=dark] .colab-df-convert {\n",
              "      background-color: #3B4455;\n",
              "      fill: #D2E3FC;\n",
              "    }\n",
              "\n",
              "    [theme=dark] .colab-df-convert:hover {\n",
              "      background-color: #434B5C;\n",
              "      box-shadow: 0px 1px 3px 1px rgba(0, 0, 0, 0.15);\n",
              "      filter: drop-shadow(0px 1px 2px rgba(0, 0, 0, 0.3));\n",
              "      fill: #FFFFFF;\n",
              "    }\n",
              "  </style>\n",
              "\n",
              "    <script>\n",
              "      const buttonEl =\n",
              "        document.querySelector('#df-74a455e7-bb28-46aa-8fa4-dbc18cc4a7c7 button.colab-df-convert');\n",
              "      buttonEl.style.display =\n",
              "        google.colab.kernel.accessAllowed ? 'block' : 'none';\n",
              "\n",
              "      async function convertToInteractive(key) {\n",
              "        const element = document.querySelector('#df-74a455e7-bb28-46aa-8fa4-dbc18cc4a7c7');\n",
              "        const dataTable =\n",
              "          await google.colab.kernel.invokeFunction('convertToInteractive',\n",
              "                                                    [key], {});\n",
              "        if (!dataTable) return;\n",
              "\n",
              "        const docLinkHtml = 'Like what you see? Visit the ' +\n",
              "          '<a target=\"_blank\" href=https://colab.research.google.com/notebooks/data_table.ipynb>data table notebook</a>'\n",
              "          + ' to learn more about interactive tables.';\n",
              "        element.innerHTML = '';\n",
              "        dataTable['output_type'] = 'display_data';\n",
              "        await google.colab.output.renderOutput(dataTable, element);\n",
              "        const docLink = document.createElement('div');\n",
              "        docLink.innerHTML = docLinkHtml;\n",
              "        element.appendChild(docLink);\n",
              "      }\n",
              "    </script>\n",
              "  </div>\n",
              "\n",
              "\n",
              "    <div id=\"df-b24ff801-0a9b-43fc-b04c-eab3405e9339\">\n",
              "      <button class=\"colab-df-quickchart\" onclick=\"quickchart('df-b24ff801-0a9b-43fc-b04c-eab3405e9339')\"\n",
              "                title=\"Suggest charts\"\n",
              "                style=\"display:none;\">\n",
              "\n",
              "<svg xmlns=\"http://www.w3.org/2000/svg\" height=\"24px\"viewBox=\"0 0 24 24\"\n",
              "     width=\"24px\">\n",
              "    <g>\n",
              "        <path d=\"M19 3H5c-1.1 0-2 .9-2 2v14c0 1.1.9 2 2 2h14c1.1 0 2-.9 2-2V5c0-1.1-.9-2-2-2zM9 17H7v-7h2v7zm4 0h-2V7h2v10zm4 0h-2v-4h2v4z\"/>\n",
              "    </g>\n",
              "</svg>\n",
              "      </button>\n",
              "\n",
              "<style>\n",
              "  .colab-df-quickchart {\n",
              "      --bg-color: #E8F0FE;\n",
              "      --fill-color: #1967D2;\n",
              "      --hover-bg-color: #E2EBFA;\n",
              "      --hover-fill-color: #174EA6;\n",
              "      --disabled-fill-color: #AAA;\n",
              "      --disabled-bg-color: #DDD;\n",
              "  }\n",
              "\n",
              "  [theme=dark] .colab-df-quickchart {\n",
              "      --bg-color: #3B4455;\n",
              "      --fill-color: #D2E3FC;\n",
              "      --hover-bg-color: #434B5C;\n",
              "      --hover-fill-color: #FFFFFF;\n",
              "      --disabled-bg-color: #3B4455;\n",
              "      --disabled-fill-color: #666;\n",
              "  }\n",
              "\n",
              "  .colab-df-quickchart {\n",
              "    background-color: var(--bg-color);\n",
              "    border: none;\n",
              "    border-radius: 50%;\n",
              "    cursor: pointer;\n",
              "    display: none;\n",
              "    fill: var(--fill-color);\n",
              "    height: 32px;\n",
              "    padding: 0;\n",
              "    width: 32px;\n",
              "  }\n",
              "\n",
              "  .colab-df-quickchart:hover {\n",
              "    background-color: var(--hover-bg-color);\n",
              "    box-shadow: 0 1px 2px rgba(60, 64, 67, 0.3), 0 1px 3px 1px rgba(60, 64, 67, 0.15);\n",
              "    fill: var(--button-hover-fill-color);\n",
              "  }\n",
              "\n",
              "  .colab-df-quickchart-complete:disabled,\n",
              "  .colab-df-quickchart-complete:disabled:hover {\n",
              "    background-color: var(--disabled-bg-color);\n",
              "    fill: var(--disabled-fill-color);\n",
              "    box-shadow: none;\n",
              "  }\n",
              "\n",
              "  .colab-df-spinner {\n",
              "    border: 2px solid var(--fill-color);\n",
              "    border-color: transparent;\n",
              "    border-bottom-color: var(--fill-color);\n",
              "    animation:\n",
              "      spin 1s steps(1) infinite;\n",
              "  }\n",
              "\n",
              "  @keyframes spin {\n",
              "    0% {\n",
              "      border-color: transparent;\n",
              "      border-bottom-color: var(--fill-color);\n",
              "      border-left-color: var(--fill-color);\n",
              "    }\n",
              "    20% {\n",
              "      border-color: transparent;\n",
              "      border-left-color: var(--fill-color);\n",
              "      border-top-color: var(--fill-color);\n",
              "    }\n",
              "    30% {\n",
              "      border-color: transparent;\n",
              "      border-left-color: var(--fill-color);\n",
              "      border-top-color: var(--fill-color);\n",
              "      border-right-color: var(--fill-color);\n",
              "    }\n",
              "    40% {\n",
              "      border-color: transparent;\n",
              "      border-right-color: var(--fill-color);\n",
              "      border-top-color: var(--fill-color);\n",
              "    }\n",
              "    60% {\n",
              "      border-color: transparent;\n",
              "      border-right-color: var(--fill-color);\n",
              "    }\n",
              "    80% {\n",
              "      border-color: transparent;\n",
              "      border-right-color: var(--fill-color);\n",
              "      border-bottom-color: var(--fill-color);\n",
              "    }\n",
              "    90% {\n",
              "      border-color: transparent;\n",
              "      border-bottom-color: var(--fill-color);\n",
              "    }\n",
              "  }\n",
              "</style>\n",
              "\n",
              "      <script>\n",
              "        async function quickchart(key) {\n",
              "          const quickchartButtonEl =\n",
              "            document.querySelector('#' + key + ' button');\n",
              "          quickchartButtonEl.disabled = true;  // To prevent multiple clicks.\n",
              "          quickchartButtonEl.classList.add('colab-df-spinner');\n",
              "          try {\n",
              "            const charts = await google.colab.kernel.invokeFunction(\n",
              "                'suggestCharts', [key], {});\n",
              "          } catch (error) {\n",
              "            console.error('Error during call to suggestCharts:', error);\n",
              "          }\n",
              "          quickchartButtonEl.classList.remove('colab-df-spinner');\n",
              "          quickchartButtonEl.classList.add('colab-df-quickchart-complete');\n",
              "        }\n",
              "        (() => {\n",
              "          let quickchartButtonEl =\n",
              "            document.querySelector('#df-b24ff801-0a9b-43fc-b04c-eab3405e9339 button');\n",
              "          quickchartButtonEl.style.display =\n",
              "            google.colab.kernel.accessAllowed ? 'block' : 'none';\n",
              "        })();\n",
              "      </script>\n",
              "    </div>\n",
              "\n",
              "    </div>\n",
              "  </div>\n"
            ],
            "application/vnd.google.colaboratory.intrinsic+json": {
              "type": "dataframe",
              "summary": "{\n  \"name\": \"# plt\",\n  \"rows\": 4,\n  \"fields\": [\n    {\n      \"column\": \"sepal_length\",\n      \"properties\": {\n        \"dtype\": \"number\",\n        \"std\": 0.5127858813273581,\n        \"min\": -0.11756978413300088,\n        \"max\": 1.0,\n        \"num_unique_values\": 4,\n        \"samples\": [\n          -0.11756978413300088,\n          0.8179411262715758,\n          1.0\n        ],\n        \"semantic_type\": \"\",\n        \"description\": \"\"\n      }\n    },\n    {\n      \"column\": \"sepal_width\",\n      \"properties\": {\n        \"dtype\": \"number\",\n        \"std\": 0.6657080809503223,\n        \"min\": -0.42844010433053864,\n        \"max\": 1.0,\n        \"num_unique_values\": 4,\n        \"samples\": [\n          1.0,\n          -0.3661259325364377,\n          -0.11756978413300088\n        ],\n        \"semantic_type\": \"\",\n        \"description\": \"\"\n      }\n    },\n    {\n      \"column\": \"petal_length\",\n      \"properties\": {\n        \"dtype\": \"number\",\n        \"std\": 0.6887672414981271,\n        \"min\": -0.42844010433053864,\n        \"max\": 1.0,\n        \"num_unique_values\": 4,\n        \"samples\": [\n          -0.42844010433053864,\n          0.962865431402796,\n          0.8717537758865838\n        ],\n        \"semantic_type\": \"\",\n        \"description\": \"\"\n      }\n    },\n    {\n      \"column\": \"petal_width\",\n      \"properties\": {\n        \"dtype\": \"number\",\n        \"std\": 0.6512846518377995,\n        \"min\": -0.3661259325364377,\n        \"max\": 1.0,\n        \"num_unique_values\": 4,\n        \"samples\": [\n          -0.3661259325364377,\n          1.0,\n          0.8179411262715758\n        ],\n        \"semantic_type\": \"\",\n        \"description\": \"\"\n      }\n    }\n  ]\n}"
            }
          },
          "metadata": {},
          "execution_count": 35
        }
      ]
    },
    {
      "cell_type": "markdown",
      "source": [
        "**22.Generate a dataset and implement both variance and standard deviation computations.**\n"
      ],
      "metadata": {
        "id": "D6gZ_VaxzGtQ"
      }
    },
    {
      "cell_type": "code",
      "source": [
        "import numpy as np\n",
        "\n",
        "np.random.seed(42)\n",
        "data = np.random.randint(10, 100, size=20)\n",
        "\n",
        "variance = np.var(data)\n",
        "std_dev = np.std(data)\n",
        "\n",
        "sample_variance = np.var(data, ddof=1)\n",
        "sample_std_dev = np.std(data, ddof=1)\n",
        "\n",
        "print(\"Dataset:\", data)\n",
        "print(f\"\\nPopulation Variance: {variance:.2f}\")\n",
        "print(f\"Population Standard Deviation: {std_dev:.2f}\")\n",
        "print(f\"Sample Variance: {sample_variance:.2f}\")\n",
        "print(f\"Sample Standard Deviation: {sample_std_dev:.2f}\")\n"
      ],
      "metadata": {
        "colab": {
          "base_uri": "https://localhost:8080/"
        },
        "id": "IufCIDKu9BX-",
        "outputId": "5950f909-c261-4481-8a96-7c496c2a1163"
      },
      "execution_count": null,
      "outputs": [
        {
          "output_type": "stream",
          "name": "stdout",
          "text": [
            "Dataset: [61 24 81 70 30 92 96 84 84 97 33 12 31 62 11 97 39 47 11 73]\n",
            "\n",
            "Population Variance: 909.79\n",
            "Population Standard Deviation: 30.16\n",
            "Sample Variance: 957.67\n",
            "Sample Standard Deviation: 30.95\n"
          ]
        }
      ]
    },
    {
      "cell_type": "markdown",
      "source": [
        "**23.Visualize skewness and kurtosis using Python libraries like matplotlib or seaborn.**\n"
      ],
      "metadata": {
        "id": "6FWbRCI5zJLe"
      }
    },
    {
      "cell_type": "code",
      "source": [
        "import numpy as np\n",
        "import seaborn as sns\n",
        "import matplotlib.pyplot as plt\n",
        "from scipy.stats import skew, kurtosis\n",
        "\n",
        "np.random.seed(0)\n",
        "data = np.random.gamma(shape=2.0, scale=2.0, size=1000)\n",
        "\n",
        "data_skewness = skew(data)\n",
        "data_kurtosis = kurtosis(data)\n",
        "\n",
        "plt.figure(figsize=(10, 6))\n",
        "sns.histplot(data, kde=True, bins=30, color='skyblue')\n",
        "plt.title(f\"Distribution with Skewness = {data_skewness:.2f}, Kurtosis = {data_kurtosis:.2f}\")\n",
        "plt.xlabel(\"Value\")\n",
        "plt.ylabel(\"Frequency\")\n",
        "plt.grid(True)\n",
        "plt.show()"
      ],
      "metadata": {
        "colab": {
          "base_uri": "https://localhost:8080/",
          "height": 564
        },
        "id": "sBWxd6SG90AO",
        "outputId": "7b5fca78-24bf-4ae5-d880-79808ee997a5"
      },
      "execution_count": null,
      "outputs": [
        {
          "output_type": "display_data",
          "data": {
            "text/plain": [
              "<Figure size 1000x600 with 1 Axes>"
            ],
            "image/png": "[encoded data removed]"
          },
          "metadata": {}
        }
      ]
    },
    {
      "cell_type": "markdown",
      "source": [
        "**24.Implement the Pearson and Spearman correlation coefficients for a dataset.**"
      ],
      "metadata": {
        "id": "7aK9RPugzLro"
      }
    },
    {
      "cell_type": "code",
      "source": [
        "import numpy as np\n",
        "from scipy.stats import pearsonr, spearmanr\n",
        "\n",
        "np.random.seed(0)\n",
        "x = np.random.normal(50, 10, 100)\n",
        "y = 2 * x + np.random.normal(0, 5, 100)\n",
        "\n",
        "pearson_corr, p1 = pearsonr(x, y)\n",
        "\n",
        "spearman_corr, p2 = spearmanr(x, y)\n",
        "\n",
        "print(f\"Pearson Correlation: {pearson_corr:.3f} (p-value = {p1:.3f})\")\n",
        "print(f\"Spearman Correlation: {spearman_corr:.3f} (p-value = {p2:.3f})\")\n"
      ],
      "metadata": {
        "colab": {
          "base_uri": "https://localhost:8080/"
        },
        "id": "F_DVOLHy-_h9",
        "outputId": "ed171d30-63b7-4745-c0c2-9dfa2ab360a6"
      },
      "execution_count": null,
      "outputs": [
        {
          "output_type": "stream",
          "name": "stdout",
          "text": [
            "Pearson Correlation: 0.971 (p-value = 0.000)\n",
            "Spearman Correlation: 0.958 (p-value = 0.000)\n"
          ]
        }
      ]
    }
  ]
}